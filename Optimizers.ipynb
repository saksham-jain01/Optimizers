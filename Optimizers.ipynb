{
  "nbformat": 4,
  "nbformat_minor": 0,
  "metadata": {
    "colab": {
      "name": "Optimizers.ipynb",
      "version": "0.3.2",
      "provenance": [],
      "collapsed_sections": []
    },
    "kernelspec": {
      "name": "python3",
      "display_name": "Python 3"
    },
    "accelerator": "GPU"
  },
  "cells": [
    {
      "cell_type": "code",
      "metadata": {
        "id": "u7sNsFZE3P5f",
        "colab_type": "code",
        "outputId": "7f9f37e9-eae6-4f4e-8cf0-23a0e32d3954",
        "colab": {
          "base_uri": "https://localhost:8080/",
          "height": 34
        }
      },
      "source": [
        "import numpy as np\n",
        "import matplotlib.pyplot as plt\n",
        "import torch\n",
        "import torch.nn as nn\n",
        "import torch.nn.functional as F\n",
        "import torchvision\n",
        "import torchvision.transforms as transforms\n",
        "import torch.optim as optim\n",
        "\n",
        "device = torch.device(\"cuda:0\" if torch.cuda.is_available() else \"cpu\")\n",
        "print(device)"
      ],
      "execution_count": 0,
      "outputs": [
        {
          "output_type": "stream",
          "text": [
            "cuda:0\n"
          ],
          "name": "stdout"
        }
      ]
    },
    {
      "cell_type": "code",
      "metadata": {
        "id": "5DlAvQqU3XKU",
        "colab_type": "code",
        "outputId": "4a997281-be04-4998-bc61-563a00ee5968",
        "colab": {
          "base_uri": "https://localhost:8080/",
          "height": 50
        }
      },
      "source": [
        "transform = transforms.Compose(\n",
        "    [transforms.ToTensor(),\n",
        "     transforms.Normalize((0.5, 0.5, 0.5), (0.5, 0.5, 0.5))])\n",
        "\n",
        "trainset = torchvision.datasets.CIFAR10(root='./data', train=True,\n",
        "                                        download=True, transform=transform)\n",
        "trainloader = torch.utils.data.DataLoader(trainset, batch_size=4,\n",
        "                                          shuffle=True, num_workers=2)\n",
        "\n",
        "testset = torchvision.datasets.CIFAR10(root='./data', train=False,\n",
        "                                       download=True, transform=transform)\n",
        "testloader = torch.utils.data.DataLoader(testset, batch_size=4,\n",
        "                                         shuffle=False, num_workers=2)\n",
        "\n",
        "classes = ('plane', 'car', 'bird', 'cat',\n",
        "           'deer', 'dog', 'frog', 'horse', 'ship', 'truck')"
      ],
      "execution_count": 0,
      "outputs": [
        {
          "output_type": "stream",
          "text": [
            "Files already downloaded and verified\n",
            "Files already downloaded and verified\n"
          ],
          "name": "stdout"
        }
      ]
    },
    {
      "cell_type": "code",
      "metadata": {
        "id": "VSrJouVj3iGU",
        "colab_type": "code",
        "colab": {}
      },
      "source": [
        "def imshow(img):\n",
        "    img = img / 2 + 0.5     # unnormalize\n",
        "    npimg = img.numpy()\n",
        "    plt.imshow(np.transpose(npimg, (1, 2, 0)))\n",
        "    plt.show()"
      ],
      "execution_count": 0,
      "outputs": []
    },
    {
      "cell_type": "code",
      "metadata": {
        "id": "HAmIebcE3iqg",
        "colab_type": "code",
        "outputId": "1e18bfc1-5320-42ab-9515-a15323d82626",
        "colab": {
          "base_uri": "https://localhost:8080/",
          "height": 156
        }
      },
      "source": [
        "dataiter = iter(trainloader)\n",
        "images, labels = dataiter.next()\n",
        "\n",
        "# show images\n",
        "imshow(torchvision.utils.make_grid(images))\n",
        "# print labels\n",
        "print(' '.join('%5s' % classes[labels[j]] for j in range(4)))"
      ],
      "execution_count": 0,
      "outputs": [
        {
          "output_type": "display_data",
          "data": {
            "image/png": "[encoded data removed]",
            "text/plain": [
              "<Figure size 432x288 with 1 Axes>"
            ]
          },
          "metadata": {
            "tags": []
          }
        },
        {
          "output_type": "stream",
          "text": [
            " frog  frog   dog  frog\n"
          ],
          "name": "stdout"
        }
      ]
    },
    {
      "cell_type": "code",
      "metadata": {
        "id": "4NJcoy8I3lSE",
        "colab_type": "code",
        "colab": {}
      },
      "source": [
        "# Model definition:\n",
        "class Net(nn.Module):\n",
        "    def __init__(self):\n",
        "        super(Net, self).__init__()\n",
        "        self.conv1 = nn.Conv2d(3, 6, 5)\n",
        "        self.pool = nn.MaxPool2d(2, 2)\n",
        "        self.conv2 = nn.Conv2d(6, 16, 5)\n",
        "        self.fc1 = nn.Linear(16 * 5 * 5, 120)\n",
        "        self.fc2 = nn.Linear(120, 84)\n",
        "        self.fc3 = nn.Linear(84, 10)\n",
        "\n",
        "    def forward(self, x):\n",
        "        x = self.pool(F.relu(self.conv1(x)))\n",
        "        x = self.pool(F.relu(self.conv2(x)))\n",
        "        x = x.view(-1, 16 * 5 * 5)\n",
        "        x = F.relu(self.fc1(x))\n",
        "        x = F.relu(self.fc2(x))\n",
        "        x = self.fc3(x)\n",
        "        return x\n",
        "\n",
        "net = Net().to(device)"
      ],
      "execution_count": 0,
      "outputs": []
    },
    {
      "cell_type": "code",
      "metadata": {
        "id": "OS5cm3BK3xMf",
        "colab_type": "code",
        "colab": {}
      },
      "source": [
        "criterion = nn.CrossEntropyLoss()"
      ],
      "execution_count": 0,
      "outputs": []
    },
    {
      "cell_type": "code",
      "metadata": {
        "id": "jSWSmVzD30_U",
        "colab_type": "code",
        "colab": {}
      },
      "source": [
        "def train():\n",
        "    loss_values = []\n",
        "    for epoch in range(10):  # loop over the dataset multiple times\n",
        "\n",
        "        running_loss = 0.0\n",
        "        for i, data in enumerate(trainloader, 0):\n",
        "            # get the inputs; data is a list of [inputs, labels]\n",
        "            inputs, labels = data[0].to(device), data[1].to(device)\n",
        "\n",
        "            # zero the parameter gradients\n",
        "            optimizer.zero_grad()\n",
        "\n",
        "            # forward + backward + optimize\n",
        "            outputs = net(inputs)\n",
        "            loss = criterion(outputs, labels)\n",
        "            loss.backward()\n",
        "            optimizer.step()\n",
        "\n",
        "            # print statistics\n",
        "            running_loss += loss.item()\n",
        "            \n",
        "            if i % 2000 == 1999:    # print every 2000 mini-batches\n",
        "                print('[%d, %5d] loss: %.3f' %\n",
        "                      (epoch + 1, i + 1, running_loss / 2000))\n",
        "                running_loss = 0.0\n",
        "                \n",
        "            \n",
        "        loss_values.append(running_loss / len(trainloader))\n",
        "       \n",
        "    #plt.plot(loss_values)\n",
        "    correct = 0\n",
        "    total = 0\n",
        "    with torch.no_grad():\n",
        "        for data in testloader:\n",
        "            images, labels = data[0].to(device), data[1].to(device)\n",
        "            outputs = net(images)\n",
        "            _, predicted = torch.max(outputs.data, 1)\n",
        "            total += labels.size(0)\n",
        "            correct += (predicted == labels).sum().item()\n",
        "\n",
        "    print('Accuracy of the network on the 10000 test images: %d %%' % (\n",
        "        100 * correct / total))\n",
        "    return loss_values"
      ],
      "execution_count": 0,
      "outputs": []
    },
    {
      "cell_type": "code",
      "metadata": {
        "id": "2wX3S4sS365W",
        "colab_type": "code",
        "outputId": "f1096bfa-8114-4b64-ab1c-0750ef5b4085",
        "colab": {
          "base_uri": "https://localhost:8080/",
          "height": 1000
        }
      },
      "source": [
        "#sgd without momentum\n",
        "optimizer = torch.optim.SGD(net.parameters(), lr = 0.01, momentum = 0)\n",
        "losses_sgd = train()\n",
        "plt.plot(losses_sgd)"
      ],
      "execution_count": 0,
      "outputs": [
        {
          "output_type": "stream",
          "text": [
            "[1,  2000] loss: 1.982\n",
            "[1,  4000] loss: 1.751\n",
            "[1,  6000] loss: 1.597\n",
            "[1,  8000] loss: 1.542\n",
            "[1, 10000] loss: 1.474\n",
            "[1, 12000] loss: 1.450\n",
            "[2,  2000] loss: 1.355\n",
            "[2,  4000] loss: 1.325\n",
            "[2,  6000] loss: 1.323\n",
            "[2,  8000] loss: 1.290\n",
            "[2, 10000] loss: 1.276\n",
            "[2, 12000] loss: 1.271\n",
            "[3,  2000] loss: 1.166\n",
            "[3,  4000] loss: 1.201\n",
            "[3,  6000] loss: 1.180\n",
            "[3,  8000] loss: 1.179\n",
            "[3, 10000] loss: 1.173\n",
            "[3, 12000] loss: 1.142\n",
            "[4,  2000] loss: 1.090\n",
            "[4,  4000] loss: 1.101\n",
            "[4,  6000] loss: 1.083\n",
            "[4,  8000] loss: 1.107\n",
            "[4, 10000] loss: 1.083\n",
            "[4, 12000] loss: 1.074\n",
            "[5,  2000] loss: 1.010\n",
            "[5,  4000] loss: 1.017\n",
            "[5,  6000] loss: 0.997\n",
            "[5,  8000] loss: 1.042\n",
            "[5, 10000] loss: 1.025\n",
            "[5, 12000] loss: 1.055\n",
            "[6,  2000] loss: 0.975\n",
            "[6,  4000] loss: 0.958\n",
            "[6,  6000] loss: 0.987\n",
            "[6,  8000] loss: 0.980\n",
            "[6, 10000] loss: 1.000\n",
            "[6, 12000] loss: 0.982\n",
            "[7,  2000] loss: 0.902\n",
            "[7,  4000] loss: 0.917\n",
            "[7,  6000] loss: 0.936\n",
            "[7,  8000] loss: 0.950\n",
            "[7, 10000] loss: 0.963\n",
            "[7, 12000] loss: 0.931\n",
            "[8,  2000] loss: 0.854\n",
            "[8,  4000] loss: 0.876\n",
            "[8,  6000] loss: 0.890\n",
            "[8,  8000] loss: 0.919\n",
            "[8, 10000] loss: 0.929\n",
            "[8, 12000] loss: 0.901\n",
            "[9,  2000] loss: 0.827\n",
            "[9,  4000] loss: 0.852\n",
            "[9,  6000] loss: 0.861\n",
            "[9,  8000] loss: 0.888\n",
            "[9, 10000] loss: 0.874\n",
            "[9, 12000] loss: 0.894\n",
            "[10,  2000] loss: 0.806\n",
            "[10,  4000] loss: 0.797\n",
            "[10,  6000] loss: 0.813\n",
            "[10,  8000] loss: 0.834\n",
            "[10, 10000] loss: 0.855\n",
            "[10, 12000] loss: 0.882\n",
            "Accuracy of the network on the 10000 test images: 61 %\n"
          ],
          "name": "stdout"
        },
        {
          "output_type": "execute_result",
          "data": {
            "text/plain": [
              "[<matplotlib.lines.Line2D at 0x7f35342b0e80>]"
            ]
          },
          "metadata": {
            "tags": []
          },
          "execution_count": 13
        },
        {
          "output_type": "display_data",
          "data": {
            "image/png": "[encoded data removed]",
            "text/plain": [
              "<Figure size 432x288 with 1 Axes>"
            ]
          },
          "metadata": {
            "tags": []
          }
        }
      ]
    },
    {
      "cell_type": "code",
      "metadata": {
        "id": "kgWcgTMW4FRR",
        "colab_type": "code",
        "outputId": "c2285eba-7c63-4ec5-ff37-a31d1bf0b1d8",
        "colab": {
          "base_uri": "https://localhost:8080/",
          "height": 1000
        }
      },
      "source": [
        "#sgd with momentum\n",
        "optimizer = torch.optim.SGD(net.parameters(), lr = 0.001, momentum = 0.9)\n",
        "losses_sgd_m = train()\n",
        "plt.plot(losses_sgd_m)"
      ],
      "execution_count": 0,
      "outputs": [
        {
          "output_type": "stream",
          "text": [
            "[1,  2000] loss: 2.142\n",
            "[1,  4000] loss: 1.854\n",
            "[1,  6000] loss: 1.681\n",
            "[1,  8000] loss: 1.553\n",
            "[1, 10000] loss: 1.518\n",
            "[1, 12000] loss: 1.466\n",
            "[2,  2000] loss: 1.405\n",
            "[2,  4000] loss: 1.349\n",
            "[2,  6000] loss: 1.325\n",
            "[2,  8000] loss: 1.300\n",
            "[2, 10000] loss: 1.277\n",
            "[2, 12000] loss: 1.285\n",
            "[3,  2000] loss: 1.196\n",
            "[3,  4000] loss: 1.180\n",
            "[3,  6000] loss: 1.190\n",
            "[3,  8000] loss: 1.184\n",
            "[3, 10000] loss: 1.167\n",
            "[3, 12000] loss: 1.164\n",
            "[4,  2000] loss: 1.088\n",
            "[4,  4000] loss: 1.082\n",
            "[4,  6000] loss: 1.113\n",
            "[4,  8000] loss: 1.093\n",
            "[4, 10000] loss: 1.080\n",
            "[4, 12000] loss: 1.086\n",
            "[5,  2000] loss: 1.014\n",
            "[5,  4000] loss: 1.008\n",
            "[5,  6000] loss: 1.033\n",
            "[5,  8000] loss: 1.043\n",
            "[5, 10000] loss: 1.040\n",
            "[5, 12000] loss: 1.031\n",
            "[6,  2000] loss: 0.948\n",
            "[6,  4000] loss: 0.978\n",
            "[6,  6000] loss: 0.991\n",
            "[6,  8000] loss: 0.963\n",
            "[6, 10000] loss: 0.984\n",
            "[6, 12000] loss: 0.994\n",
            "[7,  2000] loss: 0.913\n",
            "[7,  4000] loss: 0.930\n",
            "[7,  6000] loss: 0.950\n",
            "[7,  8000] loss: 0.938\n",
            "[7, 10000] loss: 0.947\n",
            "[7, 12000] loss: 0.931\n",
            "[8,  2000] loss: 0.853\n",
            "[8,  4000] loss: 0.883\n",
            "[8,  6000] loss: 0.898\n",
            "[8,  8000] loss: 0.904\n",
            "[8, 10000] loss: 0.951\n",
            "[8, 12000] loss: 0.902\n",
            "[9,  2000] loss: 0.825\n",
            "[9,  4000] loss: 0.837\n",
            "[9,  6000] loss: 0.867\n",
            "[9,  8000] loss: 0.857\n",
            "[9, 10000] loss: 0.862\n",
            "[9, 12000] loss: 0.896\n",
            "[10,  2000] loss: 0.795\n",
            "[10,  4000] loss: 0.811\n",
            "[10,  6000] loss: 0.832\n",
            "[10,  8000] loss: 0.832\n",
            "[10, 10000] loss: 0.844\n",
            "[10, 12000] loss: 0.860\n",
            "Accuracy of the network on the 10000 test images: 60 %\n"
          ],
          "name": "stdout"
        },
        {
          "output_type": "execute_result",
          "data": {
            "text/plain": [
              "[<matplotlib.lines.Line2D at 0x7fd8d315a940>]"
            ]
          },
          "metadata": {
            "tags": []
          },
          "execution_count": 20
        },
        {
          "output_type": "display_data",
          "data": {
            "image/png": "[encoded data removed]",
            "text/plain": [
              "<Figure size 432x288 with 1 Axes>"
            ]
          },
          "metadata": {
            "tags": []
          }
        }
      ]
    },
    {
      "cell_type": "code",
      "metadata": {
        "id": "2x3AcSz94g_G",
        "colab_type": "code",
        "outputId": "1616535b-3a51-457c-ee3d-29e43950eb61",
        "colab": {
          "base_uri": "https://localhost:8080/",
          "height": 1000
        }
      },
      "source": [
        "#adam\n",
        "optimizer = torch.optim.Adam(net.parameters(), lr = 0.0001)\n",
        "losses_adam = train()\n",
        "plt.plot(losses_adam)"
      ],
      "execution_count": 0,
      "outputs": [
        {
          "output_type": "stream",
          "text": [
            "[1,  2000] loss: 0.737\n",
            "[1,  4000] loss: 0.740\n",
            "[1,  6000] loss: 0.738\n",
            "[1,  8000] loss: 0.768\n",
            "[1, 10000] loss: 0.773\n",
            "[1, 12000] loss: 0.755\n",
            "[2,  2000] loss: 0.727\n",
            "[2,  4000] loss: 0.732\n",
            "[2,  6000] loss: 0.746\n",
            "[2,  8000] loss: 0.730\n",
            "[2, 10000] loss: 0.751\n",
            "[2, 12000] loss: 0.729\n",
            "[3,  2000] loss: 0.712\n",
            "[3,  4000] loss: 0.733\n",
            "[3,  6000] loss: 0.730\n",
            "[3,  8000] loss: 0.719\n",
            "[3, 10000] loss: 0.731\n",
            "[3, 12000] loss: 0.737\n",
            "[4,  2000] loss: 0.693\n",
            "[4,  4000] loss: 0.714\n",
            "[4,  6000] loss: 0.716\n",
            "[4,  8000] loss: 0.726\n",
            "[4, 10000] loss: 0.709\n",
            "[4, 12000] loss: 0.719\n",
            "[5,  2000] loss: 0.709\n",
            "[5,  4000] loss: 0.698\n",
            "[5,  6000] loss: 0.709\n",
            "[5,  8000] loss: 0.708\n",
            "[5, 10000] loss: 0.698\n",
            "[5, 12000] loss: 0.705\n",
            "[6,  2000] loss: 0.680\n",
            "[6,  4000] loss: 0.667\n",
            "[6,  6000] loss: 0.698\n",
            "[6,  8000] loss: 0.695\n",
            "[6, 10000] loss: 0.726\n",
            "[6, 12000] loss: 0.700\n",
            "[7,  2000] loss: 0.671\n",
            "[7,  4000] loss: 0.688\n",
            "[7,  6000] loss: 0.687\n",
            "[7,  8000] loss: 0.681\n",
            "[7, 10000] loss: 0.696\n",
            "[7, 12000] loss: 0.699\n",
            "[8,  2000] loss: 0.666\n",
            "[8,  4000] loss: 0.685\n",
            "[8,  6000] loss: 0.680\n",
            "[8,  8000] loss: 0.669\n",
            "[8, 10000] loss: 0.692\n",
            "[8, 12000] loss: 0.674\n",
            "[9,  2000] loss: 0.670\n",
            "[9,  4000] loss: 0.661\n",
            "[9,  6000] loss: 0.662\n",
            "[9,  8000] loss: 0.668\n",
            "[9, 10000] loss: 0.669\n",
            "[9, 12000] loss: 0.681\n",
            "[10,  2000] loss: 0.647\n",
            "[10,  4000] loss: 0.659\n",
            "[10,  6000] loss: 0.674\n",
            "[10,  8000] loss: 0.674\n",
            "[10, 10000] loss: 0.658\n",
            "[10, 12000] loss: 0.657\n",
            "Accuracy of the network on the 10000 test images: 64 %\n"
          ],
          "name": "stdout"
        },
        {
          "output_type": "execute_result",
          "data": {
            "text/plain": [
              "[<matplotlib.lines.Line2D at 0x7fafd99ffb00>]"
            ]
          },
          "metadata": {
            "tags": []
          },
          "execution_count": 13
        },
        {
          "output_type": "display_data",
          "data": {
            "image/png": "[encoded data removed]",
            "text/plain": [
              "<Figure size 432x288 with 1 Axes>"
            ]
          },
          "metadata": {
            "tags": []
          }
        }
      ]
    },
    {
      "cell_type": "code",
      "metadata": {
        "id": "h8bdml694oGk",
        "colab_type": "code",
        "outputId": "a8ad080b-d4da-4fa3-a9fb-24421f60c8c3",
        "colab": {
          "base_uri": "https://localhost:8080/",
          "height": 1000
        }
      },
      "source": [
        "#adagrad\n",
        "optimizer = torch.optim.Adagrad(net.parameters(), lr = 0.0001)\n",
        "losses_adagrad = train()\n",
        "plt.plot(losses_adagrad)"
      ],
      "execution_count": 0,
      "outputs": [
        {
          "output_type": "stream",
          "text": [
            "[1,  2000] loss: 0.650\n",
            "[1,  4000] loss: 0.609\n",
            "[1,  6000] loss: 0.620\n",
            "[1,  8000] loss: 0.636\n",
            "[1, 10000] loss: 0.609\n",
            "[1, 12000] loss: 0.619\n",
            "[2,  2000] loss: 0.617\n",
            "[2,  4000] loss: 0.640\n",
            "[2,  6000] loss: 0.607\n",
            "[2,  8000] loss: 0.624\n",
            "[2, 10000] loss: 0.627\n",
            "[2, 12000] loss: 0.604\n",
            "[3,  2000] loss: 0.624\n",
            "[3,  4000] loss: 0.606\n",
            "[3,  6000] loss: 0.643\n",
            "[3,  8000] loss: 0.609\n",
            "[3, 10000] loss: 0.621\n",
            "[3, 12000] loss: 0.613\n",
            "[4,  2000] loss: 0.632\n",
            "[4,  4000] loss: 0.623\n",
            "[4,  6000] loss: 0.617\n",
            "[4,  8000] loss: 0.603\n",
            "[4, 10000] loss: 0.608\n",
            "[4, 12000] loss: 0.624\n",
            "[5,  2000] loss: 0.609\n",
            "[5,  4000] loss: 0.614\n",
            "[5,  6000] loss: 0.634\n",
            "[5,  8000] loss: 0.621\n",
            "[5, 10000] loss: 0.621\n",
            "[5, 12000] loss: 0.609\n",
            "[6,  2000] loss: 0.632\n",
            "[6,  4000] loss: 0.607\n",
            "[6,  6000] loss: 0.635\n",
            "[6,  8000] loss: 0.619\n",
            "[6, 10000] loss: 0.610\n",
            "[6, 12000] loss: 0.594\n",
            "[7,  2000] loss: 0.630\n",
            "[7,  4000] loss: 0.610\n",
            "[7,  6000] loss: 0.617\n",
            "[7,  8000] loss: 0.618\n",
            "[7, 10000] loss: 0.597\n",
            "[7, 12000] loss: 0.630\n",
            "[8,  2000] loss: 0.615\n",
            "[8,  4000] loss: 0.626\n",
            "[8,  6000] loss: 0.604\n",
            "[8,  8000] loss: 0.635\n",
            "[8, 10000] loss: 0.613\n",
            "[8, 12000] loss: 0.607\n",
            "[9,  2000] loss: 0.602\n",
            "[9,  4000] loss: 0.623\n",
            "[9,  6000] loss: 0.624\n",
            "[9,  8000] loss: 0.617\n",
            "[9, 10000] loss: 0.594\n",
            "[9, 12000] loss: 0.633\n",
            "[10,  2000] loss: 0.614\n",
            "[10,  4000] loss: 0.617\n",
            "[10,  6000] loss: 0.622\n",
            "[10,  8000] loss: 0.602\n",
            "[10, 10000] loss: 0.632\n",
            "[10, 12000] loss: 0.616\n",
            "Accuracy of the network on the 10000 test images: 65 %\n"
          ],
          "name": "stdout"
        },
        {
          "output_type": "execute_result",
          "data": {
            "text/plain": [
              "[<matplotlib.lines.Line2D at 0x7fafd4f702e8>]"
            ]
          },
          "metadata": {
            "tags": []
          },
          "execution_count": 14
        },
        {
          "output_type": "display_data",
          "data": {
            "image/png": "[encoded data removed]",
            "text/plain": [
              "<Figure size 432x288 with 1 Axes>"
            ]
          },
          "metadata": {
            "tags": []
          }
        }
      ]
    },
    {
      "cell_type": "code",
      "metadata": {
        "id": "j7zlCDst46Ie",
        "colab_type": "code",
        "outputId": "429e8961-3605-44e0-8063-2616ef96a7b8",
        "colab": {
          "base_uri": "https://localhost:8080/",
          "height": 1000
        }
      },
      "source": [
        "#RMSprop\n",
        "optimizer = torch.optim.RMSprop(net.parameters(), lr = 0.0001)\n",
        "losses_rmsprop = train()\n",
        "plt.plot(losses_rmsprop)"
      ],
      "execution_count": 0,
      "outputs": [
        {
          "output_type": "stream",
          "text": [
            "[1,  2000] loss: 0.892\n",
            "[1,  4000] loss: 0.865\n",
            "[1,  6000] loss: 0.863\n",
            "[1,  8000] loss: 0.850\n",
            "[1, 10000] loss: 0.852\n",
            "[1, 12000] loss: 0.846\n",
            "[2,  2000] loss: 0.811\n",
            "[2,  4000] loss: 0.831\n",
            "[2,  6000] loss: 0.823\n",
            "[2,  8000] loss: 0.843\n",
            "[2, 10000] loss: 0.846\n",
            "[2, 12000] loss: 0.848\n",
            "[3,  2000] loss: 0.816\n",
            "[3,  4000] loss: 0.811\n",
            "[3,  6000] loss: 0.823\n",
            "[3,  8000] loss: 0.816\n",
            "[3, 10000] loss: 0.819\n",
            "[3, 12000] loss: 0.804\n",
            "[4,  2000] loss: 0.782\n",
            "[4,  4000] loss: 0.790\n",
            "[4,  6000] loss: 0.816\n",
            "[4,  8000] loss: 0.808\n",
            "[4, 10000] loss: 0.810\n",
            "[4, 12000] loss: 0.816\n",
            "[5,  2000] loss: 0.780\n",
            "[5,  4000] loss: 0.786\n",
            "[5,  6000] loss: 0.819\n",
            "[5,  8000] loss: 0.785\n",
            "[5, 10000] loss: 0.786\n",
            "[5, 12000] loss: 0.817\n",
            "[6,  2000] loss: 0.767\n",
            "[6,  4000] loss: 0.776\n",
            "[6,  6000] loss: 0.786\n",
            "[6,  8000] loss: 0.798\n",
            "[6, 10000] loss: 0.795\n",
            "[6, 12000] loss: 0.788\n",
            "[7,  2000] loss: 0.771\n",
            "[7,  4000] loss: 0.771\n",
            "[7,  6000] loss: 0.777\n",
            "[7,  8000] loss: 0.800\n",
            "[7, 10000] loss: 0.795\n",
            "[7, 12000] loss: 0.779\n",
            "[8,  2000] loss: 0.755\n",
            "[8,  4000] loss: 0.763\n",
            "[8,  6000] loss: 0.795\n",
            "[8,  8000] loss: 0.791\n",
            "[8, 10000] loss: 0.766\n",
            "[8, 12000] loss: 0.789\n",
            "[9,  2000] loss: 0.746\n",
            "[9,  4000] loss: 0.739\n",
            "[9,  6000] loss: 0.780\n",
            "[9,  8000] loss: 0.794\n",
            "[9, 10000] loss: 0.764\n",
            "[9, 12000] loss: 0.777\n",
            "[10,  2000] loss: 0.775\n",
            "[10,  4000] loss: 0.762\n",
            "[10,  6000] loss: 0.757\n",
            "[10,  8000] loss: 0.759\n",
            "[10, 10000] loss: 0.749\n",
            "[10, 12000] loss: 0.770\n",
            "Accuracy of the network on the 10000 test images: 64 %\n"
          ],
          "name": "stdout"
        },
        {
          "output_type": "execute_result",
          "data": {
            "text/plain": [
              "[<matplotlib.lines.Line2D at 0x7fafd693b3c8>]"
            ]
          },
          "metadata": {
            "tags": []
          },
          "execution_count": 11
        },
        {
          "output_type": "display_data",
          "data": {
            "image/png": "[encoded data removed]",
            "text/plain": [
              "<Figure size 432x288 with 1 Axes>"
            ]
          },
          "metadata": {
            "tags": []
          }
        }
      ]
    },
    {
      "cell_type": "code",
      "metadata": {
        "id": "0rP2czGbMvM1",
        "colab_type": "code",
        "colab": {}
      },
      "source": [
        "plt.plot(losses_sgd)\n",
        "plt.plot(losses_sgd_m)\n",
        "plt.plot(losses_adam)\n",
        "plt.plot(losses_adagrad)\n",
        "plt.plot(losses_rmsprop)\n",
        "plt.legend(['SGD without momentum','SGD with momentum','Adam','AdaGrad','RMSProp'],loc='upper right')"
      ],
      "execution_count": 0,
      "outputs": []
    }
  ]
}